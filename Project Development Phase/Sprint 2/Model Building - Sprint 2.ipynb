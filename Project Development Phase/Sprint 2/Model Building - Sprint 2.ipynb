{
  "nbformat": 4,
  "nbformat_minor": 0,
  "metadata": {
    "colab": {
      "provenance": [],
      "collapsed_sections": []
    },
    "kernelspec": {
      "name": "python3",
      "display_name": "Python 3"
    },
    "language_info": {
      "name": "python"
    }
  },
  "cells": [
    {
      "cell_type": "markdown",
      "source": [
        "## **PROJECT DEVELOPMENT PHASE SPRINT-2**"
      ],
      "metadata": {
        "id": "j2FXY2hHzySE"
      }
    },
    {
      "cell_type": "markdown",
      "source": [
        "## **BUILDING THE MODEL**"
      ],
      "metadata": {
        "id": "GmeD9Q4L0A8e"
      }
    },
    {
      "cell_type": "code",
      "source": [
        "#Sprint 1 codes\n",
        "import numpy as np\n",
        "import tensorflow\n",
        "from tensorflow.keras.datasets import mnist\n",
        "from tensorflow.keras.models import Sequential\n",
        "from tensorflow.keras import layers\n",
        "from tensorflow.keras.layers import Dense, Flatten\n",
        "from tensorflow.keras.layers import Conv2D\n",
        "from keras.optimizers import Adam\n",
        "from keras.utils import np_utils\n",
        "(x_train, y_train), (x_test, y_test) = mnist.load_data()\n",
        "print(x_train.shape)\n",
        "print(x_test.shape)\n",
        "x_train[0]\n",
        "y_train[7]\n",
        "import matplotlib.pyplot as plt\n",
        "plt.imshow(x_train[7])\n",
        "x_train=x_train.reshape(60000, 28, 28, 1).astype('float32')\n",
        "x_test=x_test.reshape(10000, 28, 28, 1).astype('float32')\n",
        "number_of_classes=10\n",
        "y_train=np_utils.to_categorical(y_train, number_of_classes)\n",
        "y_test=np_utils.to_categorical(y_test, number_of_classes)\n",
        "y_train[7]"
      ],
      "metadata": {
        "id": "o6kwBAw02evj",
        "colab": {
          "base_uri": "https://localhost:8080/",
          "height": 352
        },
        "outputId": "051d516d-f774-47dc-8552-1376bff526a2"
      },
      "execution_count": 1,
      "outputs": [
        {
          "output_type": "stream",
          "name": "stdout",
          "text": [
            "Downloading data from https://storage.googleapis.com/tensorflow/tf-keras-datasets/mnist.npz\n",
            "11490434/11490434 [==============================] - 0s 0us/step\n",
            "(60000, 28, 28)\n",
            "(10000, 28, 28)\n"
          ]
        },
        {
          "output_type": "execute_result",
          "data": {
            "text/plain": [
              "array([0., 0., 0., 1., 0., 0., 0., 0., 0., 0.], dtype=float32)"
            ]
          },
          "metadata": {},
          "execution_count": 1
        },
        {
          "output_type": "display_data",
          "data": {
            "text/plain": [
              "<Figure size 432x288 with 1 Axes>"
            ],
            "image/png": "[encoded data removed]"
          },
          "metadata": {
            "needs_background": "light"
          }
        }
      ]
    },
    {
      "cell_type": "markdown",
      "source": [
        "### **1. Add CNN Layers**"
      ],
      "metadata": {
        "id": "VJEhipcJ0Orp"
      }
    },
    {
      "cell_type": "markdown",
      "source": [
        "Creating the model and adding the input, hidden, and output layers to it"
      ],
      "metadata": {
        "id": "syHuJClP00oo"
      }
    },
    {
      "cell_type": "code",
      "execution_count": 2,
      "metadata": {
        "id": "IwPgwR1fzfb6"
      },
      "outputs": [],
      "source": [
        "#create model\n",
        "model = Sequential()\n",
        "#adding model layer\n",
        "model.add(Conv2D(64, (3, 3), input_shape=(28, 28, 1), activation='relu'))\n",
        "model.add(Conv2D(32, (3, 3), activation='relu'))\n",
        "#flatten the dimension of the image\n",
        "model.add(Flatten())\n",
        "#output layer with 10 neurons\n",
        "model.add(Dense(number_of_classes, activation='softmax'))"
      ]
    },
    {
      "cell_type": "markdown",
      "source": [
        "### **2. Compiling the Model**"
      ],
      "metadata": {
        "id": "pMcJPjSGu-uA"
      }
    },
    {
      "cell_type": "code",
      "source": [
        "model.compile(loss='categorical_crossentropy',optimizer='Adam',metrics=['accuracy'])"
      ],
      "metadata": {
        "id": "69Sewz6-3nQU"
      },
      "execution_count": 3,
      "outputs": []
    },
    {
      "cell_type": "markdown",
      "source": [
        "### **3. Train the Model**"
      ],
      "metadata": {
        "id": "cyJfO6x3_2C-"
      }
    },
    {
      "cell_type": "code",
      "source": [
        "model.fit(x_train, y_train, validation_data=(x_test, y_test), epochs=5, batch_size=32)"
      ],
      "metadata": {
        "colab": {
          "base_uri": "https://localhost:8080/"
        },
        "id": "6i7fLMt2Brwl",
        "outputId": "7489c722-e15a-4a96-9702-e95beba668bc"
      },
      "execution_count": 4,
      "outputs": [
        {
          "output_type": "stream",
          "name": "stdout",
          "text": [
            "Epoch 1/5\n",
            "1875/1875 [==============================] - 216s 114ms/step - loss: 0.2401 - accuracy: 0.9524 - val_loss: 0.0930 - val_accuracy: 0.9691\n",
            "Epoch 2/5\n",
            "1875/1875 [==============================] - 220s 117ms/step - loss: 0.0709 - accuracy: 0.9785 - val_loss: 0.0877 - val_accuracy: 0.9741\n",
            "Epoch 3/5\n",
            "1875/1875 [==============================] - 207s 111ms/step - loss: 0.0484 - accuracy: 0.9843 - val_loss: 0.0746 - val_accuracy: 0.9775\n",
            "Epoch 4/5\n",
            "1875/1875 [==============================] - 205s 110ms/step - loss: 0.0360 - accuracy: 0.9885 - val_loss: 0.0845 - val_accuracy: 0.9784\n",
            "Epoch 5/5\n",
            "1875/1875 [==============================] - 209s 111ms/step - loss: 0.0308 - accuracy: 0.9903 - val_loss: 0.1047 - val_accuracy: 0.9778\n"
          ]
        },
        {
          "output_type": "execute_result",
          "data": {
            "text/plain": [
              "<keras.callbacks.History at 0x7f28080ed090>"
            ]
          },
          "metadata": {},
          "execution_count": 4
        }
      ]
    },
    {
      "cell_type": "markdown",
      "source": [
        "### **4. Observing the Metrics - 1**"
      ],
      "metadata": {
        "id": "nOvGW6sbEi9s"
      }
    },
    {
      "cell_type": "code",
      "source": [
        "metrics  = model.evaluate(x_test, y_test, verbose=0)\n",
        "print(\"Metrics(Test loss & Test Accuracy): \")\n",
        "print(metrics)"
      ],
      "metadata": {
        "colab": {
          "base_uri": "https://localhost:8080/"
        },
        "id": "yo3D7gTBEyeD",
        "outputId": "019e2abf-e61c-4de3-9dfd-39a324497efa"
      },
      "execution_count": 5,
      "outputs": [
        {
          "output_type": "stream",
          "name": "stdout",
          "text": [
            "Metrics(Test loss & Test Accuracy): \n",
            "[0.10466578602790833, 0.9778000116348267]\n"
          ]
        }
      ]
    },
    {
      "cell_type": "markdown",
      "source": [
        "### **5. Test the Model - 1**"
      ],
      "metadata": {
        "id": "nyopxoodFSuk"
      }
    },
    {
      "cell_type": "code",
      "source": [
        "#Predicting the output\n",
        "prediction=model.predict(x_test[:4])\n",
        "print(prediction)"
      ],
      "metadata": {
        "colab": {
          "base_uri": "https://localhost:8080/"
        },
        "id": "mmx7OuAJFXSL",
        "outputId": "ba21d63f-062c-4125-8338-ac54848edd78"
      },
      "execution_count": 6,
      "outputs": [
        {
          "output_type": "stream",
          "name": "stdout",
          "text": [
            "1/1 [==============================] - 0s 125ms/step\n",
            "[[1.1180715e-10 2.7074212e-26 1.1033469e-12 1.9440699e-11 3.9704897e-18\n",
            "  1.0923853e-15 1.5900120e-22 1.0000000e+00 1.5791420e-09 3.8585626e-10]\n",
            " [1.7555689e-09 2.0963583e-08 1.0000000e+00 5.5665561e-10 5.7318091e-18\n",
            "  6.6004718e-17 6.0554073e-10 1.1210676e-21 1.7702333e-12 8.5294225e-20]\n",
            " [3.7882291e-08 9.9940240e-01 3.8445531e-05 6.0030700e-09 4.8336628e-04\n",
            "  3.7639125e-05 1.8814904e-07 2.0015149e-07 3.7454149e-05 2.5281548e-07]\n",
            " [1.0000000e+00 9.6070007e-17 2.6381128e-12 9.4809929e-14 2.5791716e-14\n",
            "  5.7849000e-11 1.1606109e-08 1.8796068e-13 2.9987765e-10 1.6569986e-09]]\n"
          ]
        }
      ]
    },
    {
      "cell_type": "code",
      "source": [
        "print(np.argmax(prediction,axis=1))\n",
        "print(y_test[:4])"
      ],
      "metadata": {
        "colab": {
          "base_uri": "https://localhost:8080/"
        },
        "id": "7D5hUvoXFi8j",
        "outputId": "343cf659-dfa5-452a-ac75-c151cfd26b68"
      },
      "execution_count": 7,
      "outputs": [
        {
          "output_type": "stream",
          "name": "stdout",
          "text": [
            "[7 2 1 0]\n",
            "[[0. 0. 0. 0. 0. 0. 0. 1. 0. 0.]\n",
            " [0. 0. 1. 0. 0. 0. 0. 0. 0. 0.]\n",
            " [0. 1. 0. 0. 0. 0. 0. 0. 0. 0.]\n",
            " [1. 0. 0. 0. 0. 0. 0. 0. 0. 0.]]\n"
          ]
        }
      ]
    },
    {
      "cell_type": "markdown",
      "source": [
        "### **6. Observing the Metrics - 2**"
      ],
      "metadata": {
        "id": "7Ez2dvBOF37j"
      }
    },
    {
      "cell_type": "code",
      "source": [
        "metrics  = model.evaluate(x_test, y_test, verbose=0)\n",
        "print(\"Metrics(Test loss & Test Accuracy): \")\n",
        "print(metrics)"
      ],
      "metadata": {
        "colab": {
          "base_uri": "https://localhost:8080/"
        },
        "id": "66t5Krt2GPyb",
        "outputId": "da127e95-fd3c-47bb-e808-b78c556f932e"
      },
      "execution_count": 8,
      "outputs": [
        {
          "output_type": "stream",
          "name": "stdout",
          "text": [
            "Metrics(Test loss & Test Accuracy): \n",
            "[0.10466578602790833, 0.9778000116348267]\n"
          ]
        }
      ]
    },
    {
      "cell_type": "markdown",
      "source": [
        "### **7. Test the Model - 2**"
      ],
      "metadata": {
        "id": "-uD6291XGV_7"
      }
    },
    {
      "cell_type": "code",
      "source": [
        "#Predicting the output\n",
        "prediction=model.predict(x_test[:4])\n",
        "print(prediction)"
      ],
      "metadata": {
        "colab": {
          "base_uri": "https://localhost:8080/"
        },
        "id": "FReD0MtUGd47",
        "outputId": "d9fb2b4f-fdd6-410c-a2aa-455b92635d9f"
      },
      "execution_count": 9,
      "outputs": [
        {
          "output_type": "stream",
          "name": "stdout",
          "text": [
            "1/1 [==============================] - 0s 21ms/step\n",
            "[[1.1180715e-10 2.7074212e-26 1.1033469e-12 1.9440699e-11 3.9704897e-18\n",
            "  1.0923853e-15 1.5900120e-22 1.0000000e+00 1.5791420e-09 3.8585626e-10]\n",
            " [1.7555689e-09 2.0963583e-08 1.0000000e+00 5.5665561e-10 5.7318091e-18\n",
            "  6.6004718e-17 6.0554073e-10 1.1210676e-21 1.7702333e-12 8.5294225e-20]\n",
            " [3.7882291e-08 9.9940240e-01 3.8445531e-05 6.0030700e-09 4.8336628e-04\n",
            "  3.7639125e-05 1.8814904e-07 2.0015149e-07 3.7454149e-05 2.5281548e-07]\n",
            " [1.0000000e+00 9.6070007e-17 2.6381128e-12 9.4809929e-14 2.5791716e-14\n",
            "  5.7849000e-11 1.1606109e-08 1.8796068e-13 2.9987765e-10 1.6569986e-09]]\n"
          ]
        }
      ]
    },
    {
      "cell_type": "code",
      "source": [
        "print(np.argmax(prediction,axis=1))\n",
        "print(y_test[:4])"
      ],
      "metadata": {
        "colab": {
          "base_uri": "https://localhost:8080/"
        },
        "id": "ynpPN8mvGjWq",
        "outputId": "fc52737f-4024-4a94-e5a5-f8cb37a79ee0"
      },
      "execution_count": 10,
      "outputs": [
        {
          "output_type": "stream",
          "name": "stdout",
          "text": [
            "[7 2 1 0]\n",
            "[[0. 0. 0. 0. 0. 0. 0. 1. 0. 0.]\n",
            " [0. 0. 1. 0. 0. 0. 0. 0. 0. 0.]\n",
            " [0. 1. 0. 0. 0. 0. 0. 0. 0. 0.]\n",
            " [1. 0. 0. 0. 0. 0. 0. 0. 0. 0.]]\n"
          ]
        }
      ]
    },
    {
      "cell_type": "markdown",
      "source": [
        "### **8. Save the Model**"
      ],
      "metadata": {
        "id": "xNtRjEoHG0fD"
      }
    },
    {
      "cell_type": "code",
      "source": [
        "model.save('models/mnistCNN.h5')"
      ],
      "metadata": {
        "id": "CtdVljOYHBNx"
      },
      "execution_count": 11,
      "outputs": []
    },
    {
      "cell_type": "markdown",
      "source": [
        "### **9. Test with Saved Model**"
      ],
      "metadata": {
        "id": "qECoW5YGHY7K"
      }
    },
    {
      "cell_type": "code",
      "source": [
        "from tensorflow.keras.models import load_model \n",
        "from tensorflow.keras.preprocessing import image\n",
        "import numpy as np\n",
        "\n",
        "model = load_model('/content/models/mnistCNN.h5') #loading our trained model\n",
        "img0 = image.load_img('/content/0.png',target_size=(28,28), grayscale=True)   #Predicting the zero value\n",
        "img0 = image.img_to_array(img0)\n",
        "print(img0.shape)\n",
        "x0 = np.expand_dims(img0,axis=0)\n",
        "print(x0.shape)\n",
        "print('*'*20)\n",
        "print(model.predict(x0))\n",
        "print('*'*28)\n",
        "print(np.round_(model.predict(x0)))\n",
        "print('\\n')\n",
        "\n",
        "img1 = image.load_img('/content/1.png',target_size=(28,28), grayscale=True)   \n",
        "img1 = image.img_to_array(img1)\n",
        "x1 = np.expand_dims(img1,axis=0)\n",
        "print(np.round_(model.predict(x1)))\n",
        "print('\\n')\n",
        "\n",
        "img2 = image.load_img('/content/2.png',target_size=(28,28), grayscale=True)   \n",
        "img2 = image.img_to_array(img2)\n",
        "x2 = np.expand_dims(img2,axis=0)\n",
        "print(np.round_(model.predict(x2)))\n",
        "print('\\n')\n",
        "\n",
        "img3 = image.load_img('/content/3.png',target_size=(28,28), grayscale=True)   \n",
        "img3 = image.img_to_array(img3)\n",
        "x3 = np.expand_dims(img3,axis=0)\n",
        "print(np.round_(model.predict(x3)))\n",
        "print('\\n')"
      ],
      "metadata": {
        "colab": {
          "base_uri": "https://localhost:8080/"
        },
        "id": "0OORuuzaHvuh",
        "outputId": "d460af9f-6cc9-4f58-c62d-b5d42026ece4"
      },
      "execution_count": 40,
      "outputs": [
        {
          "output_type": "stream",
          "name": "stdout",
          "text": [
            "(28, 28, 1)\n",
            "(1, 28, 28, 1)\n",
            "********************\n",
            "1/1 [==============================] - 0s 59ms/step\n",
            "[[1.0000000e+00 1.8686404e-20 7.8679615e-12 2.5517658e-17 2.7366887e-14\n",
            "  1.2206859e-12 4.5355359e-16 2.8571683e-12 4.6177812e-16 3.4873573e-10]]\n",
            "****************************\n",
            "1/1 [==============================] - 0s 21ms/step\n",
            "[[1. 0. 0. 0. 0. 0. 0. 0. 0. 0.]]\n",
            "\n",
            "\n",
            "1/1 [==============================] - 0s 21ms/step\n",
            "[[0. 1. 0. 0. 0. 0. 0. 0. 0. 0.]]\n",
            "\n",
            "\n",
            "1/1 [==============================] - 0s 26ms/step\n",
            "[[0. 0. 1. 0. 0. 0. 0. 0. 0. 0.]]\n",
            "\n",
            "\n",
            "1/1 [==============================] - 0s 29ms/step\n",
            "[[0. 0. 0. 1. 0. 0. 0. 0. 0. 0.]]\n",
            "\n",
            "\n"
          ]
        }
      ]
    }
  ]
}